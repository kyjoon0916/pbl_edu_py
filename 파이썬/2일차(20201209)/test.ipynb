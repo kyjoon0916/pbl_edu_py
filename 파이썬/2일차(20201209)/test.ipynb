{
 "metadata": {
  "language_info": {
   "codemirror_mode": {
    "name": "ipython",
    "version": 3
   },
   "file_extension": ".py",
   "mimetype": "text/x-python",
   "name": "python",
   "nbconvert_exporter": "python",
   "pygments_lexer": "ipython3",
   "version": "3.8.5-final"
  },
  "orig_nbformat": 2,
  "kernelspec": {
   "name": "python3",
   "display_name": "Python 3",
   "language": "python"
  }
 },
 "nbformat": 4,
 "nbformat_minor": 2,
 "cells": [
  {
   "source": [
    "과제 1,2"
   ],
   "cell_type": "markdown",
   "metadata": {}
  },
  {
   "cell_type": "code",
   "execution_count": 1,
   "metadata": {
    "tags": []
   },
   "outputs": [
    {
     "output_type": "stream",
     "name": "stdout",
     "text": [
      "*\n**\n***\n****\n*****\n******\n*******\n********\n*******\n******\n*****\n****\n***\n**\n*\n"
     ]
    }
   ],
   "source": [
    "x=1\n",
    "while x<8:\n",
    "    print(\"*\"*x)\n",
    "    x +=1\n",
    "\n",
    "while x>0:\n",
    "    print(\"*\"*x)\n",
    "    x -=1\n",
    "    if x ==0:\n",
    "        break\n"
   ]
  },
  {
   "source": [
    "과제 3"
   ],
   "cell_type": "markdown",
   "metadata": {}
  },
  {
   "cell_type": "code",
   "execution_count": 1,
   "metadata": {},
   "outputs": [
    {
     "output_type": "stream",
     "name": "stdout",
     "text": [
      "1 번째 번호는 33 입니다.\n2 번째 번호는 56 입니다.\n3 번째 번호는 44 입니다.\n4 번째 번호는 32 입니다.\n5 번째 번호는 51 입니다.\n6 번째 번호는 60 입니다.\n7 번째 번호는 18 입니다.\n"
     ]
    }
   ],
   "source": [
    "import random\n",
    "\n",
    "b=1\n",
    "while True:\n",
    "    a = random.randrange(10,61)\n",
    "    print(\"%d 번째 번호는 %d 입니다.\" %(b,a))\n",
    "    b +=1\n",
    "    if b ==8:\n",
    "        break"
   ]
  },
  {
   "cell_type": "code",
   "execution_count": 3,
   "metadata": {},
   "outputs": [
    {
     "output_type": "stream",
     "name": "stdout",
     "text": [
      "0.35317124815378387\n0.8585019868784137\n0.25653244253409113\n0.06996623843138783\n0.9362355414790368\n0.5379941673719898\n0.6312877697915158\n0.5327332434958193\n0.8549987318450821\n0.46073965399403205\n"
     ]
    }
   ],
   "source": [
    "import random\n",
    "for i in range(10):\n",
    "    x=random.random()\n",
    "    print(x)"
   ]
  },
  {
   "cell_type": "code",
   "execution_count": 6,
   "metadata": {},
   "outputs": [
    {
     "output_type": "stream",
     "name": "stdout",
     "text": [
      "python 1\npython 2\npython 3\npython 4\npython 5\n"
     ]
    }
   ],
   "source": [
    "for i in [1,2,3,4,5]:\n",
    "    print(\"python\",i)   "
   ]
  },
  {
   "source": [
    "실습(코드)"
   ],
   "cell_type": "markdown",
   "metadata": {}
  },
  {
   "cell_type": "code",
   "execution_count": 1,
   "metadata": {},
   "outputs": [
    {
     "output_type": "stream",
     "name": "stdout",
     "text": [
      "0,0,0\n"
     ]
    }
   ],
   "source": [
    "price=int(input())\n",
    "a = price//50000\n",
    "b = (price-50000*a)//10000\n",
    "c = ((price-50000*a)//10000)//1000\n",
    "print(\"{},{},{}\".format(a,b,c))\n"
   ]
  },
  {
   "source": [
    "점수를 입력하면 학점 출력하는 프로그램"
   ],
   "cell_type": "markdown",
   "metadata": {}
  },
  {
   "cell_type": "code",
   "execution_count": 6,
   "metadata": {},
   "outputs": [
    {
     "output_type": "stream",
     "name": "stdout",
     "text": [
      "A+\n"
     ]
    }
   ],
   "source": [
    "point = int(input(\"점수를 입력하세요:\"))\n",
    "if point > 95:\n",
    "    grade= \"A+\"\n",
    "    print(grade)\n",
    "elif point > 90:\n",
    "    grade= \"A\"\n",
    "    print(grade)\n",
    "elif point > 85:\n",
    "    grade= \"B+\"\n",
    "    print(grade)\n",
    "elif point > 80:\n",
    "    grade= \"B\"\n",
    "    print(grade)\n",
    "elif point > 75:\n",
    "    grade= \"C+\"\n",
    "    print(grade)\n",
    "elif point > 70:\n",
    "    grade= \"C\"\n",
    "    print(grade)\n",
    "else:\n",
    "    print(\"F\")\n",
    "\n"
   ]
  },
  {
   "source": [
    "구구단 출력 프로그램"
   ],
   "cell_type": "markdown",
   "metadata": {}
  },
  {
   "cell_type": "code",
   "execution_count": 15,
   "metadata": {},
   "outputs": [
    {
     "output_type": "stream",
     "name": "stdout",
     "text": [
      "4x1=4\n4x2=8\n4x3=12\n4x4=16\n4x5=20\n4x6=24\n4x7=28\n4x8=32\n4x9=36\n"
     ]
    }
   ],
   "source": [
    "number = int(input(\"input number.\"))\n",
    "for j in range(1,10):\n",
    "    print((\"{}x{}={}\").format(number,j,number*j))\n",
    "        "
   ]
  },
  {
   "source": [
    "1. 종료없이 계속 구구단 입력\n",
    "2. 입력에서 99입력시 프로그램 종료\n",
    "3. 입력에서 0, 음수 입력시 다시 단을 입력하도록"
   ],
   "cell_type": "markdown",
   "metadata": {}
  },
  {
   "cell_type": "code",
   "execution_count": 1,
   "metadata": {},
   "outputs": [
    {
     "output_type": "stream",
     "name": "stdout",
     "text": [
      "다시 입력하시오\n"
     ]
    }
   ],
   "source": [
    "while True:\n",
    "    try:\n",
    "        number = int(input(\"input number.\"))\n",
    "        if number <= 0:\n",
    "            raise ValueError\n",
    "    except ValueError:\n",
    "        print(\"다시 입력하시오\")\n",
    "        continue\n",
    "    if number == 99:\n",
    "        break\n",
    "    for j in range(1,10):\n",
    "        print((\"{}x{}={}\").format(number,j,number*j))\n",
    "    \n",
    "\n",
    "        "
   ]
  },
  {
   "source": [
    "윤년인지 파악하는 프로그램"
   ],
   "cell_type": "markdown",
   "metadata": {}
  },
  {
   "cell_type": "code",
   "execution_count": 41,
   "metadata": {},
   "outputs": [
    {
     "output_type": "stream",
     "name": "stdout",
     "text": [
      "윤년\n"
     ]
    }
   ],
   "source": [
    "year = int(input(\"연도를 입력하세요\"))\n",
    "\n",
    "\n",
    "if (year) % 4 == 0 and (year % 100 != 0)or(year%400 == 0):\n",
    "    print(\"윤년\")\n",
    "else:\n",
    "    print(\"윤년아님\")"
   ]
  },
  {
   "source": [
    "문자 메서드 실습"
   ],
   "cell_type": "markdown",
   "metadata": {}
  },
  {
   "cell_type": "code",
   "execution_count": 42,
   "metadata": {},
   "outputs": [
    {
     "output_type": "execute_result",
     "data": {
      "text/plain": [
       "'Python Is Eaxy'"
      ]
     },
     "metadata": {},
     "execution_count": 42
    }
   ],
   "source": [
    "ss =\"Python is Eaxy\"\n",
    "ss.upper()\n",
    "ss.lower()\n",
    "ss.swapcase()\n",
    "ss.title()"
   ]
  },
  {
   "source": [
    "list 값 접근"
   ],
   "cell_type": "markdown",
   "metadata": {}
  },
  {
   "cell_type": "code",
   "execution_count": 45,
   "metadata": {},
   "outputs": [
    {
     "output_type": "stream",
     "name": "stdout",
     "text": [
      "aa[-1]은 40, aa[-2]는 30\n"
     ]
    }
   ],
   "source": [
    "aa= [10,20,30,40]\n",
    "print(\"aa[-1]은 %d, aa[-2]는 %d\" % (aa[-1],aa[-2]))"
   ]
  },
  {
   "source": [
    "리스트에 접근할때 클론을 사용해 범위를 지정"
   ],
   "cell_type": "markdown",
   "metadata": {}
  },
  {
   "cell_type": "code",
   "execution_count": 47,
   "metadata": {},
   "outputs": [
    {
     "output_type": "execute_result",
     "data": {
      "text/plain": [
       "[30, 40]"
      ]
     },
     "metadata": {},
     "execution_count": 47
    }
   ],
   "source": [
    "aa = [10,20,30,40]\n",
    "aa[0:3]\n",
    "aa[2:4]"
   ]
  },
  {
   "source": [
    "클론의 앞이나 뒤 숫자 생략"
   ],
   "cell_type": "markdown",
   "metadata": {}
  },
  {
   "cell_type": "code",
   "execution_count": 49,
   "metadata": {},
   "outputs": [
    {
     "output_type": "execute_result",
     "data": {
      "text/plain": [
       "[10, 20]"
      ]
     },
     "metadata": {},
     "execution_count": 49
    }
   ],
   "source": [
    "aa = [10,20,30,40]\n",
    "aa[2:]\n",
    "aa[:2]\n"
   ]
  },
  {
   "source": [
    "리스트 끼리 덧셈, 곱셈 연산"
   ],
   "cell_type": "markdown",
   "metadata": {}
  },
  {
   "cell_type": "code",
   "execution_count": 55,
   "metadata": {},
   "outputs": [
    {
     "output_type": "execute_result",
     "data": {
      "text/plain": [
       "[10, 20, 30, 40, 10, 20, 30, 40, 10, 20, 30, 40]"
      ]
     },
     "metadata": {},
     "execution_count": 55
    }
   ],
   "source": [
    "aa = [10,20,30,40]\n",
    "bb = [10,20,30,40]\n",
    "aa + bb\n",
    "aa * 3"
   ]
  },
  {
   "cell_type": "code",
   "execution_count": null,
   "metadata": {},
   "outputs": [],
   "source": []
  }
 ]
}