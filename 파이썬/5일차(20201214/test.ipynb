{
 "metadata": {
  "language_info": {
   "codemirror_mode": {
    "name": "ipython",
    "version": 3
   },
   "file_extension": ".py",
   "mimetype": "text/x-python",
   "name": "python",
   "nbconvert_exporter": "python",
   "pygments_lexer": "ipython3",
   "version": "3.8.5-final"
  },
  "orig_nbformat": 2,
  "kernelspec": {
   "name": "python3",
   "display_name": "Python 3",
   "language": "python"
  }
 },
 "nbformat": 4,
 "nbformat_minor": 2,
 "cells": [
  {
   "source": [
    "#  socket "
   ],
   "cell_type": "markdown",
   "metadata": {}
  },
  {
   "cell_type": "code",
   "execution_count": 1,
   "metadata": {},
   "outputs": [
    {
     "output_type": "stream",
     "name": "stdout",
     "text": [
      "HTTP/1.1 200 OK\nDate: Mon, 14 Dec 2020 04:58:31 GMT\nServer: Apache/2.4.18 (Ubuntu)\nLast-Modified: Sat, 13 May 2017 11:22:22 GMT\nETag: \"a7-54f6609245537\"\nAccept-Ranges: bytes\nContent-Length: 167\nCache-Control: max-age=0, no-cache, no-store, must-revalidate\nPragma: no-cache\nExpires: Wed, 11 Jan 1984 05:00:00 GMT\nConnection: close\nContent-Type: text/plain\n\nBut soft what light through yonder window breaks\nIt is the east and Juliet is the sun\nArise fair sun and kill the envious moon\nWho is already sick and pale with grief\n"
     ]
    }
   ],
   "source": [
    "import socket\n",
    "mysock = socket.socket(socket.AF_INET, socket.SOCK_STREAM)\n",
    "mysock.connect( ('data.pr4e.org', 80) )\n",
    "cmd = 'GET http://data.pr4e.org/romeo.txt HTTP/1.0\\r\\n\\r\\n'.encode()\n",
    "mysock.send(cmd)\n",
    "\n",
    "while True:\n",
    "    data = mysock.recv(512)\n",
    "    if (len(data) < 1):\n",
    "        break\n",
    "    print(data.decode(),end='')\n",
    "mysock.close()"
   ]
  },
  {
   "cell_type": "code",
   "execution_count": 9,
   "metadata": {},
   "outputs": [
    {
     "output_type": "stream",
     "name": "stdout",
     "text": [
      "But soft what light through yonder window breaks\nIt is the east and Juliet is the sun\nArise fair sun and kill the envious moon\nWho is already sick and pale with grief\n"
     ]
    }
   ],
   "source": [
    "import urllib.request, urllib.parse, urllib.error\n",
    "\n",
    "fhand = urllib.request.urlopen('http://data.pr4e.org/romeo.txt')\n",
    "for line in fhand:\n",
    "    print(line.decode().strip())"
   ]
  },
  {
   "cell_type": "code",
   "execution_count": 11,
   "metadata": {},
   "outputs": [
    {
     "output_type": "stream",
     "name": "stdout",
     "text": [
      "{'But': 1, 'soft': 1, 'what': 1, 'light': 1, 'through': 1, 'yonder': 1, 'window': 1, 'breaks': 1, 'It': 1, 'is': 3, 'the': 3, 'east': 1, 'and': 3, 'Juliet': 1, 'sun': 2, 'Arise': 1, 'fair': 1, 'kill': 1, 'envious': 1, 'moon': 1, 'Who': 1, 'already': 1, 'sick': 1, 'pale': 1, 'with': 1, 'grief': 1}\n"
     ]
    }
   ],
   "source": [
    "import urllib.request, urllib.parse, urllib.error\n",
    "\n",
    "fhand = urllib.request.urlopen('http://data.pr4e.org/romeo.txt')\n",
    "\n",
    "counts = dict()\n",
    "for line in fhand:\n",
    "    words = line.decode().split()\n",
    "    for word in words:\n",
    "        counts[word] = counts.get(word, 0) + 1\n",
    "print(counts)"
   ]
  },
  {
   "cell_type": "code",
   "execution_count": 12,
   "metadata": {},
   "outputs": [
    {
     "output_type": "stream",
     "name": "stdout",
     "text": [
      "<h1>The First Page</h1>\n<p>\nIf you like, you can switch to the\n<a href=\"http://www.dr-chuck.com/page2.htm\">\nSecond Page</a>.\n</p>\n"
     ]
    }
   ],
   "source": [
    "import urllib.request, urllib.parse, urllib.error\n",
    "\n",
    "fhand = urllib.request.urlopen('http://www.dr-chuck.com/page1.htm')\n",
    "for line in fhand:\n",
    "    print(line.decode().strip())"
   ]
  },
  {
   "cell_type": "code",
   "execution_count": 14,
   "metadata": {},
   "outputs": [
    {
     "output_type": "stream",
     "name": "stdout",
     "text": [
      "{'But': 1, 'soft': 1, 'what': 1, 'light': 1, 'through': 1, 'yonder': 1, 'window': 1, 'breaks': 1, 'It': 1, 'is': 3, 'the': 3, 'east': 1, 'and': 3, 'Juliet': 1, 'sun': 2, 'Arise': 1, 'fair': 1, 'kill': 1, 'envious': 1, 'moon': 1, 'Who': 1, 'already': 1, 'sick': 1, 'pale': 1, 'with': 1, 'grief': 1}\n"
     ]
    }
   ],
   "source": [
    "import urllib.request, urllib.parse, urllib.error\n",
    "\n",
    "fhand = urllib.request.urlopen('http://data.pr4e.org/romeo.txt')\n",
    "\n",
    "counts = dict()\n",
    "for line in fhand:\n",
    "    words = line.decode().split()\n",
    "    for word in words:\n",
    "        counts[word] = counts.get(word, 0) + 1\n",
    "print(counts)"
   ]
  },
  {
   "cell_type": "code",
   "execution_count": 20,
   "metadata": {},
   "outputs": [
    {
     "output_type": "stream",
     "name": "stdout",
     "text": [
      "<class 'str'>\n<class 'str'>\n"
     ]
    }
   ],
   "source": [
    "# Python 2.7.10 \n",
    "x = '이광춘'\n",
    "print(type(x))\n",
    "# <type 'str'>\n",
    "x = u'이광춘'\n",
    "print(type(x))\n",
    "# <type 'unicode'>"
   ]
  },
  {
   "cell_type": "code",
   "execution_count": 21,
   "metadata": {},
   "outputs": [
    {
     "output_type": "stream",
     "name": "stdout",
     "text": [
      "i am constructed:\nso far 1\nso far 2\ni am destructed: 2\nan contains 23\n"
     ]
    }
   ],
   "source": [
    "class partyanimal:\n",
    "    x=0\n",
    "    name = \"\"\n",
    "    def __init__(self):\n",
    "        self.name='z'\n",
    "        print(\"i am constructed:\")\n",
    "        \n",
    "    def party(self):\n",
    "        self.x= self.x+1\n",
    "        print(\"so far\",self.x)\n",
    "\n",
    "    def __del__(self):\n",
    "        print(\"i am destructed:\",self.x)\n",
    "  \n",
    "an =partyanimal()\n",
    "an.party()\n",
    "an.party()\n",
    "an =44\n",
    "print(\"an contains\",z)\n"
   ]
  },
  {
   "cell_type": "code",
   "execution_count": 81,
   "metadata": {},
   "outputs": [
    {
     "output_type": "stream",
     "name": "stdout",
     "text": [
      "sally : i am constructed\nsally party count 1\nsally party count 2\njelly : i am constructed\njelly party count 1\njelly party count 2\njelly points 7\njelly party count 3\njelly points 14\nsally party count 3\n"
     ]
    }
   ],
   "source": [
    "class partyanimal:\n",
    "    x=0\n",
    "    name = \"\"\n",
    "    def __init__(self, z):\n",
    "        self.name= z\n",
    "        print(self.name,\": i am constructed\")\n",
    "        \n",
    "    def party(self):\n",
    "        self.x= self.x+1\n",
    "        print(self.name,\"party count\",self.x)\n",
    "\n",
    "class footballfan(partyanimal):\n",
    "    points = 0\n",
    "    def touchdown(self):\n",
    "        self.points = self.points+7\n",
    "        self.party()\n",
    "        print(self.name,\"points\",self.points)\n",
    "    \n",
    "s = partyanimal(\"sally\")\n",
    "s.party()\n",
    "s.party()\n",
    "j = footballfan(\"jelly\")\n",
    "j.party()\n",
    "j.touchdown()\n",
    "j.touchdown()\n",
    "s.party()"
   ]
  },
  {
   "cell_type": "code",
   "execution_count": 4,
   "metadata": {},
   "outputs": [],
   "source": [
    "class Dog:    \n",
    "    def __init__(self, name, color):\n",
    "        self.name = name\n",
    "        self.color = color\n",
    "        self.__hungry = 0\n",
    "    \n",
    "    def eat(self):\n",
    "        self.__hungry -= 10\n",
    "        print(\"밥먹음 \", self.__hungry)\n",
    "        \n",
    "    def walk(self):\n",
    "        self.__hungry += 10\n",
    "        print(\"산책 \", self.__hungry)"
   ]
  },
  {
   "cell_type": "code",
   "execution_count": 5,
   "metadata": {},
   "outputs": [],
   "source": [
    "my=Dog(\"강쥐\",\"무색\")"
   ]
  },
  {
   "cell_type": "code",
   "execution_count": 6,
   "metadata": {},
   "outputs": [
    {
     "output_type": "stream",
     "name": "stdout",
     "text": [
      "산책  10\n"
     ]
    }
   ],
   "source": [
    "my.walk()\n"
   ]
  },
  {
   "cell_type": "code",
   "execution_count": 7,
   "metadata": {},
   "outputs": [
    {
     "output_type": "stream",
     "name": "stdout",
     "text": [
      "밥먹음  0\n"
     ]
    }
   ],
   "source": [
    "my.eat()"
   ]
  },
  {
   "cell_type": "code",
   "execution_count": 9,
   "metadata": {},
   "outputs": [
    {
     "output_type": "execute_result",
     "data": {
      "text/plain": [
       "['__class__',\n",
       " '__delattr__',\n",
       " '__dict__',\n",
       " '__dir__',\n",
       " '__doc__',\n",
       " '__eq__',\n",
       " '__format__',\n",
       " '__ge__',\n",
       " '__getattribute__',\n",
       " '__gt__',\n",
       " '__hash__',\n",
       " '__init__',\n",
       " '__init_subclass__',\n",
       " '__le__',\n",
       " '__lt__',\n",
       " '__module__',\n",
       " '__ne__',\n",
       " '__new__',\n",
       " '__reduce__',\n",
       " '__reduce_ex__',\n",
       " '__repr__',\n",
       " '__setattr__',\n",
       " '__sizeof__',\n",
       " '__str__',\n",
       " '__subclasshook__',\n",
       " '__weakref__',\n",
       " 'eat',\n",
       " 'walk']"
      ]
     },
     "metadata": {},
     "execution_count": 9
    }
   ],
   "source": [
    "dir(Dog)"
   ]
  },
  {
   "cell_type": "code",
   "execution_count": 37,
   "metadata": {},
   "outputs": [
    {
     "output_type": "error",
     "ename": "ValueError",
     "evalue": "invalid literal for int() with base 10: 'class ComplexNumber: def __init__(self, real, img): self.real = real self.img = img def __add__(self, cn): return ComplexNumber(self.real + cn.real, self.img + cn.img) def __sub__(self, cn): return C",
     "traceback": [
      "\u001b[1;31m---------------------------------------------------------------------------\u001b[0m",
      "\u001b[1;31mValueError\u001b[0m                                Traceback (most recent call last)",
      "\u001b[1;32m<ipython-input-37-dd11f941b38f>\u001b[0m in \u001b[0;36m<module>\u001b[1;34m\u001b[0m\n\u001b[0;32m      2\u001b[0m     \u001b[0mprint\u001b[0m\u001b[1;33m(\u001b[0m\u001b[1;34m\"%d X %d = %d\"\u001b[0m \u001b[1;33m%\u001b[0m\u001b[1;33m(\u001b[0m\u001b[0ma\u001b[0m\u001b[1;33m,\u001b[0m\u001b[1;36m3\u001b[0m\u001b[1;33m,\u001b[0m\u001b[0ma\u001b[0m\u001b[1;33m*\u001b[0m\u001b[1;36m3\u001b[0m\u001b[1;33m)\u001b[0m\u001b[1;33m)\u001b[0m\u001b[1;33m\u001b[0m\u001b[1;33m\u001b[0m\u001b[0m\n\u001b[0;32m      3\u001b[0m \u001b[1;33m\u001b[0m\u001b[0m\n\u001b[1;32m----> 4\u001b[1;33m \u001b[0mx\u001b[0m\u001b[1;33m(\u001b[0m\u001b[0mint\u001b[0m\u001b[1;33m(\u001b[0m\u001b[0minput\u001b[0m\u001b[1;33m(\u001b[0m\u001b[1;33m)\u001b[0m\u001b[1;33m)\u001b[0m\u001b[1;33m)\u001b[0m\u001b[1;33m\u001b[0m\u001b[1;33m\u001b[0m\u001b[0m\n\u001b[0m",
      "\u001b[1;31mValueError\u001b[0m: invalid literal for int() with base 10: 'class ComplexNumber: def __init__(self, real, img): self.real = real self.img = img def __add__(self, cn): return ComplexNumber(self.real + cn.real, self.img + cn.img) def __sub__(self, cn): return C"
     ]
    }
   ],
   "source": [
    "def x(a):\n",
    "    print(\"%d X %d = %d\" %(a,3,a*3))\n",
    "\n",
    "x(int(input()))"
   ]
  },
  {
   "source": [
    "# 복소수 구하기"
   ],
   "cell_type": "markdown",
   "metadata": {}
  },
  {
   "cell_type": "code",
   "execution_count": 42,
   "metadata": {},
   "outputs": [],
   "source": [
    "class ComplexNumber:\n",
    "    def __init__(self, real, img):\n",
    "        self.real = real\n",
    "        self.img = img\n",
    "    def __add__(self, cn):\n",
    "        return ComplexNumber(self.real + cn.real, self.img + cn.img)\n",
    "    def __sub__(self, cn):\n",
    "        return ComplexNumber(self.real - cn.real, self.img - cn.img)\n",
    "    def __mul__(self, x):\n",
    "        if type(x) == int:\n",
    "            return ComplexNumber(self.real * x, self.img * x)\n",
    "        elif type(x) == ComplexNumber:\n",
    "            return ComplexNumber(self.real * x.real - self.img * x.img, self.real * x.img + self.img * x.real)\n",
    "# (a + bj) * (c + dj) = (ac - bd) + (ad + bc)j\n",
    "    def __str__(self):\n",
    "        if self.img >= 0:\n",
    "            return '{} + {}j'.format(self.real, self.img)\n",
    "        else:\n",
    "            return '{} - {}j'.format(self.real, abs(self.img))\n",
    "    def __eq__(self, cn):\n",
    "        return self.real == cn.real and self.img == cn.img\n",
    "    def __ne__(self, cn):\n",
    "        return not (self.real == cn.real and self.img == cn.img)\n",
    "    def __abs__(self ):\n",
    "        return math.sqrt(self.real ** 2 + self.img ** 2)\n",
    "    def __len__(self ):\n",
    "        return self.real ** 2 + self.img ** 2\n"
   ]
  },
  {
   "cell_type": "code",
   "execution_count": 46,
   "metadata": {},
   "outputs": [
    {
     "output_type": "stream",
     "name": "stdout",
     "text": [
      "복소수 a:  5 + 5j\n복소수 b:  3 + 2j\n복소수 a+b:  8 + 7j\n복소수 a-b:  2 + 3j\n복소수 a*b:  5 + 25j\n복소수 a와 b가 같은가?  False\n복소수 a와 b가 다른가?  True\n복소수 a 크기:  7.0710678118654755\n복소수 a 크기의 제곱:  50\n"
     ]
    }
   ],
   "source": [
    "q,w,e,r=map(int,input().split())\n",
    "a = ComplexNumber(q, w)\n",
    "b = ComplexNumber(e, r)\n",
    "\n",
    "print(\"복소수 a: \",a)\n",
    "print(\"복소수 b: \",b)\n",
    "print(\"복소수 a+b: \",a+b)\n",
    "print(\"복소수 a-b: \",a-b)\n",
    "print(\"복소수 a*b: \",a*b)\n",
    "print(\"복소수 a와 b가 같은가? \",a==b)\n",
    "print(\"복소수 a와 b가 다른가? \",a!=b)\n",
    "print(\"복소수 a 크기: \",abs(a))\n",
    "print(\"복소수 a 크기의 제곱: \",len(a))"
   ]
  },
  {
   "source": [
    "# person"
   ],
   "cell_type": "markdown",
   "metadata": {}
  },
  {
   "cell_type": "code",
   "execution_count": 19,
   "metadata": {},
   "outputs": [
    {
     "output_type": "stream",
     "name": "stdout",
     "text": [
      "Hana의 사용언어는 korean입니다.\nHana은 korean 언어로 말합니다.\nHana의 이메일은 haha@a.com 입니다.\n"
     ]
    }
   ],
   "source": [
    "class Person:\n",
    "    def __init__(self, name, email):\n",
    "        self.name = name\n",
    "        self.email = email\n",
    "    def speak(self, language):\n",
    "        print('{}의 사용언어는 {}입니다.'.format(self.name, language))\n",
    "    def displayInfo(self ):\n",
    "        print('{}의 이메일은 {} 입니다.'.format(self.name, self.email))\n",
    "class Student(Person):\n",
    "    def __init__(self, name, email):\n",
    "        self.name = name\n",
    "        self.email = email\n",
    "    def speak(self, language):\n",
    "        super().speak(language)\n",
    "        print('{}은 {} 언어로 말합니다.'.format(self.name, language))\n",
    "stu1=Student('Hana','haha@a.com')\n",
    "stu1.speak('korean')\n",
    "stu1.displayInfo()\n"
   ]
  },
  {
   "cell_type": "code",
   "execution_count": 47,
   "metadata": {},
   "outputs": [
    {
     "output_type": "stream",
     "name": "stdout",
     "text": [
      "kyj의 언어는 korean입니다\nkyj은 korean로 말합니다\nkyj의 메일은 naver.com입니다\n"
     ]
    }
   ],
   "source": [
    "class Person:\n",
    "    def __init__(self,name,email):\n",
    "        self.name= name\n",
    "        self.email=email\n",
    "    def speak(self,language):\n",
    "        print(\"{}의 언어는 {}입니다\".format(self.name,language))\n",
    "    def dispalyout(self):\n",
    "        print(\"{}의 메일은 {}입니다\".format(self.name,self.email))\n",
    "class Student(Person):\n",
    "    def __init__(self,name,email):\n",
    "        self.name=name\n",
    "        self.email=email\n",
    "    def speak(self,language):\n",
    "        super().speak(language)\n",
    "        print(\"{}은 {}로 말합니다\".format(self.name,language))\n",
    "kyj = Student('kyj','naver.com')\n",
    "kyj.speak('korean') \n",
    "kyj.dispalyout()    "
   ]
  },
  {
   "cell_type": "code",
   "execution_count": 57,
   "metadata": {},
   "outputs": [
    {
     "output_type": "stream",
     "name": "stdout",
     "text": [
      "\n 현재값: 0\n"
     ]
    }
   ],
   "source": [
    "value = 0\n",
    "while True:\n",
    "    print(\"\\n 현재값:\",value)\n",
    "    line = input(\"작업명령: \")\n",
    "    tokens = line.split()\n",
    "    if len(tokens)>0:\n",
    "        operator = tokens[0]\n",
    "        if len(tokens) == 1:\n",
    "            if operator == 'x':\n",
    "                break\n",
    "\n",
    "            print(\"잘못된 작업 명령!\")\n",
    "        elif len(tokens) ==2:\n",
    "            operand = float(tokens[1])\n",
    "            if operator ==\"=\":\n",
    "                value =operand\n",
    "            elif operator ==\"+\":\n",
    "                value +=operand\n",
    "            elif operator ==\"/\" or operator ==\"%\":\n",
    "                if operand !=0:\n",
    "                    if operator =='/':\n",
    "                        value /= operand\n",
    "                    else:\n",
    "                        value %= operand\n",
    "                else:\n",
    "                    print(\"잘못된 작업명령(0으로 나누기)!!\")\n",
    "           \n",
    "            \n"
   ]
  },
  {
   "cell_type": "code",
   "execution_count": 59,
   "metadata": {},
   "outputs": [
    {
     "output_type": "stream",
     "name": "stdout",
     "text": [
      "학생이름: 용준\n학생번호: 01094295624\n"
     ]
    }
   ],
   "source": [
    "class student:\n",
    "    def __init__(self,name,number):\n",
    "        self.name = name\n",
    "        self.no = number\n",
    "    def prstudent(self):\n",
    "        print(\"학생이름:\",self.name)\n",
    "        print(\"학생번호:\",self.no)\n",
    "a=student(\"용준\",\"01094295624\")\n",
    "a.prstudent()\n"
   ]
  },
  {
   "cell_type": "code",
   "execution_count": 63,
   "metadata": {},
   "outputs": [
    {
     "output_type": "execute_result",
     "data": {
      "text/plain": [
       "120"
      ]
     },
     "metadata": {},
     "execution_count": 63
    }
   ],
   "source": [
    "def fac(n):\n",
    "    if n == 0 or n==1:\n",
    "        return 1\n",
    "    else:\n",
    "        return  n*fac(n-1)\n",
    "fac(5)"
   ]
  },
  {
   "cell_type": "code",
   "execution_count": 5,
   "metadata": {},
   "outputs": [
    {
     "output_type": "stream",
     "name": "stdout",
     "text": [
      "이름 kyj\n번호 16\n"
     ]
    }
   ],
   "source": [
    "class student:\n",
    "    def __init__(self,name,num):\n",
    "        self.name = name\n",
    "        self.num = num\n",
    "    def __info__(self):\n",
    "        print(\"이름\",self.name)\n",
    "        print(\"번호\",self.num)\n",
    "kyj = student('kyj',16)\n",
    "kyj.__info__()"
   ]
  },
  {
   "cell_type": "code",
   "execution_count": 35,
   "metadata": {},
   "outputs": [],
   "source": [
    "class calculator:\n",
    "    # 더하기\n",
    "    def add(self, inp):\n",
    "        global global_number\n",
    "        global_number = global_number + inp\n",
    "    # 빼기\n",
    "    def sub(self, inp):\n",
    "        global global_number\n",
    "        global_number = global_number - inp\n",
    "    # 곱하기\n",
    "    def mul(self, inp):\n",
    "        global global_number\n",
    "        global_number = global_number * inp\n",
    "    # 나누기\n",
    "    def div(self, inp):\n",
    "        global global_number\n",
    "        global_number = global_number / inp\n",
    "    # 초기화\n",
    "    def toZero(self):\n",
    "        global global_number\n",
    "        global_number = 0"
   ]
  },
  {
   "cell_type": "code",
   "execution_count": 36,
   "metadata": {},
   "outputs": [],
   "source": [
    "cal = calculator()\n"
   ]
  },
  {
   "cell_type": "code",
   "execution_count": 37,
   "metadata": {},
   "outputs": [
    {
     "output_type": "stream",
     "name": "stdout",
     "text": [
      "10\n6\n12\n4.0\n0\n"
     ]
    }
   ],
   "source": [
    "cal.add(10)\n",
    "print(global_number)\n",
    "cal.sub(4)\n",
    "print(global_number)\n",
    "cal.mul(2)\n",
    "print(global_number)\n",
    "cal.div(3)\n",
    "print(global_number)\n",
    "cal.toZero()\n",
    "print(global_number)"
   ]
  },
  {
   "cell_type": "code",
   "execution_count": 42,
   "metadata": {},
   "outputs": [
    {
     "output_type": "stream",
     "name": "stdout",
     "text": [
      "15\n9\n36\n4.0\n"
     ]
    }
   ],
   "source": [
    "class calculator:\n",
    "    def add(self, inp1, inp2):\n",
    "        print(inp1 + inp2)\n",
    "    def sub(self, inp1, inp2):\n",
    "        print(inp1 - inp2)\n",
    "    def mul(self, inp1, inp2):\n",
    "        print(inp1 * inp2)\n",
    "    def div(self, inp1, inp2):\n",
    "        print(inp1 / inp2)\n",
    "cal = calculator()\n",
    "ipt,ipt2 = map(int,input().split())\n",
    "cal.add(ipt, ipt2)\n",
    "cal.sub(ipt, ipt2)\n",
    "cal.mul(ipt, ipt2)\n",
    "cal.div(ipt, ipt2)"
   ]
  }
 ]
}