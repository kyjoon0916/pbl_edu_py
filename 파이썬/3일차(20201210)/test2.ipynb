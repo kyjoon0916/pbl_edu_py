{
 "metadata": {
  "language_info": {
   "codemirror_mode": {
    "name": "ipython",
    "version": 3
   },
   "file_extension": ".py",
   "mimetype": "text/x-python",
   "name": "python",
   "nbconvert_exporter": "python",
   "pygments_lexer": "ipython3",
   "version": "3.8.5-final"
  },
  "orig_nbformat": 2,
  "kernelspec": {
   "name": "python3",
   "display_name": "Python 3"
  }
 },
 "nbformat": 4,
 "nbformat_minor": 2,
 "cells": [
  {
   "source": [
    "문제 1"
   ],
   "cell_type": "markdown",
   "metadata": {}
  },
  {
   "source": [
    "def fred():\n",
    "    print(\"Zap\")\n",
    "def jane():\n",
    "    print(\"ABC\")\n",
    "jane()\n",
    "fred()\n",
    "jane()"
   ],
   "cell_type": "code",
   "metadata": {},
   "execution_count": 11,
   "outputs": [
    {
     "output_type": "stream",
     "name": "stdout",
     "text": [
      "ABC\nZap\nABC\n"
     ]
    }
   ]
  },
  {
   "source": [
    "문제 2"
   ],
   "cell_type": "markdown",
   "metadata": {}
  },
  {
   "cell_type": "code",
   "execution_count": 10,
   "metadata": {},
   "outputs": [
    {
     "output_type": "stream",
     "name": "stdout",
     "text": [
      "hi~kim ###hi~park ###hi~Lee ###"
     ]
    }
   ],
   "source": [
    "many= [\"kim\",\"park\",\"Lee\"]\n",
    "for one in many:\n",
    "    print(\"hi\",one,sep='~',end=\" ###\")"
   ]
  },
  {
   "source": [
    "문제3"
   ],
   "cell_type": "markdown",
   "metadata": {}
  },
  {
   "cell_type": "code",
   "execution_count": 12,
   "metadata": {},
   "outputs": [
    {
     "output_type": "stream",
     "name": "stdout",
     "text": [
      "6\n"
     ]
    }
   ],
   "source": [
    "c=0\n",
    "for itervar in [3,41,12,9,74,15]:\n",
    "    c +=1\n",
    "print(c)"
   ]
  },
  {
   "source": [
    "문제4"
   ],
   "cell_type": "markdown",
   "metadata": {}
  },
  {
   "cell_type": "code",
   "execution_count": 13,
   "metadata": {},
   "outputs": [
    {
     "output_type": "stream",
     "name": "stdout",
     "text": [
      "154\n"
     ]
    }
   ],
   "source": [
    "t = 0 \n",
    "for i in [3,41,12,9,74,15]:\n",
    "    t+=i\n",
    "print(t)"
   ]
  },
  {
   "source": [
    "문제5"
   ],
   "cell_type": "markdown",
   "metadata": {}
  },
  {
   "cell_type": "code",
   "execution_count": 15,
   "metadata": {},
   "outputs": [
    {
     "output_type": "stream",
     "name": "stdout",
     "text": [
      "3 3\n"
     ]
    }
   ],
   "source": [
    "fruits = ['banana','apple','cherry','lemon',\"mango\",\"presimmion\"]\n",
    "long=0\n",
    "short=0\n",
    "\n",
    "for fruit in fruits:\n",
    "    if len(fruit)>5:\n",
    "        long+=1\n",
    "    else:\n",
    "        short+=1\n",
    "print(long,short)"
   ]
  },
  {
   "source": [
    "문제 6"
   ],
   "cell_type": "markdown",
   "metadata": {}
  },
  {
   "cell_type": "code",
   "execution_count": 16,
   "metadata": {},
   "outputs": [
    {
     "output_type": "stream",
     "name": "stdout",
     "text": [
      "Jello, world!\n"
     ]
    }
   ],
   "source": [
    "greeting = \"Hello, world!\"\n",
    "new_greeting = 'J'+greeting[1:]\n",
    "print(new_greeting)"
   ]
  },
  {
   "source": [
    "문제7"
   ],
   "cell_type": "markdown",
   "metadata": {}
  },
  {
   "cell_type": "code",
   "execution_count": 28,
   "metadata": {},
   "outputs": [
    {
     "output_type": "execute_result",
     "data": {
      "text/plain": [
       "True"
      ]
     },
     "metadata": {},
     "execution_count": 28
    }
   ],
   "source": [
    "# a = int(input())              #판별 수\n",
    "# def isPrime(ipt):\n",
    "#     num =1                          #증가 수\n",
    "#     count =0                        #약수 개수\n",
    "#     while num <=ipt:\n",
    "#         if ipt % num ==0:\n",
    "#             count +=1\n",
    "#         num+=1\n",
    "#     if count ==2:\n",
    "#         return True\n",
    "#     else:\n",
    "#         return False\n",
    "\n",
    "def isPrime(number):\n",
    "    count =0\n",
    "    for i in range(1,number+1):\n",
    "        if number % i ==0:\n",
    "            count +=1\n",
    "    if count ==2:\n",
    "        return True\n",
    "    else: \n",
    "        return False\n",
    "ipt = int(input())\n",
    "isPrime(ipt)"
   ]
  },
  {
   "source": [
    "문제8"
   ],
   "cell_type": "markdown",
   "metadata": {}
  },
  {
   "cell_type": "code",
   "execution_count": 2,
   "metadata": {},
   "outputs": [
    {
     "output_type": "stream",
     "name": "stdout",
     "text": [
      "2\n"
     ]
    }
   ],
   "source": [
    "# ipt=int(input())\n",
    "# def numberOfPrime(x):\n",
    "#     num = 2\n",
    "#     a =[]\n",
    "#     while num <= x:\n",
    "#         count = 0  # 약수의 개수를 세어줄 변수\n",
    "#         i = 1  # 1~num까지 증가할 변수\n",
    "#         while i <= num:\n",
    "#             if num % i == 0:  # 나누어지면 약수\n",
    "#                 count += 1\n",
    "#             i += 1  # 1증가\n",
    "#         if count == 2:  # 약수의 개수가 2개면 출력\n",
    "#             a.append(num)\n",
    "#         num += 1 # 판별수 증가\n",
    "#     return len(a)\n",
    "# numberOfPrime(ipt)\n",
    "def numberofPrime(j):\n",
    "    for i in range(2,j):\n",
    "        if j%i ==0:\n",
    "            return False\n",
    "    return True \n",
    "\n",
    "n=int(input()) \n",
    "count=0 \n",
    "for i in range(2,n+1): \n",
    "    if numberofPrime(i)==True: \n",
    "\n",
    "        count+=1 \n",
    "print(count) \n"
   ]
  }
 ]
}