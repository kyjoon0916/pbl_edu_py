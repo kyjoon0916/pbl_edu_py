{
 "metadata": {
  "language_info": {
   "codemirror_mode": {
    "name": "ipython",
    "version": 3
   },
   "file_extension": ".py",
   "mimetype": "text/x-python",
   "name": "python",
   "nbconvert_exporter": "python",
   "pygments_lexer": "ipython3",
   "version": "3.8.5-final"
  },
  "orig_nbformat": 2,
  "kernelspec": {
   "name": "python3",
   "display_name": "Python 3",
   "language": "python"
  }
 },
 "nbformat": 4,
 "nbformat_minor": 2,
 "cells": [
  {
   "cell_type": "code",
   "execution_count": 71,
   "metadata": {},
   "outputs": [
    {
     "output_type": "stream",
     "name": "stdout",
     "text": [
      "생성된 리스트 [2, 2, 9, 5, 1, 7, 5, 6, 5, 8]\n숫자 0 는(은) 리스트에 없네요\n숫자 3 는(은) 리스트에 없네요\n숫자 4 는(은) 리스트에 없네요\n"
     ]
    }
   ],
   "source": [
    "# in 실습\n",
    "\n",
    "import random\n",
    "numbers =[]\n",
    "for num in range(0,10):\n",
    "    numbers.append(random.randrange(0,10))\n",
    "print(\"생성된 리스트\",numbers)\n",
    "for i in range(10):\n",
    "    if numbers.count(i)==0:\n",
    "        print(\"숫자 %d 는(은) 리스트에 없네요\"%i)\n"
   ]
  },
  {
   "cell_type": "code",
   "execution_count": 17,
   "metadata": {},
   "outputs": [
    {
     "output_type": "stream",
     "name": "stdout",
     "text": [
      "@@@@@@@\n@@@@@@\n@@@@@\n@@@@\n@@@\n@@\n@\n@@@@@@@\n@@@@@@\n@@@@@\n@@@@\n@@@\n@@\n@\n@@@@@@@\n@@@@@@\n@@@@@\n@@@@\n@@@\n@@\n@\n"
     ]
    }
   ],
   "source": [
    "#실습파트 3 \n",
    "def opt(w,q):\n",
    "    if w==1:\n",
    "        for i in range(1,8):\n",
    "            for j in range(i):\n",
    "                print(\"%s\"%q,end=(\"\"))\n",
    "            print(\"\")\n",
    "    if w==0:\n",
    "        for a in range(1,8):\n",
    "            for b in range(8,a,-1):\n",
    "                print(\"%s\"%q,end=(\"\"))\n",
    "            print(\"\")\n",
    "x=int(input(\"정방향 1, 역방향 0\"))\n",
    "ipt=int(input(\"반복횟수\"))\n",
    "chr=str(input(\"문양 입력\"))\n",
    "for c in range(ipt):\n",
    "    opt(x,chr)"
   ]
  },
  {
   "cell_type": "code",
   "execution_count": 108,
   "metadata": {},
   "outputs": [
    {
     "output_type": "stream",
     "name": "stdout",
     "text": [
      "[타자게임] 준비되면 엔터\n",
      "1607574813.7931683\n",
      "*문제 1\n",
      "snake\n",
      "통과\n",
      "*문제 2\n",
      "wolf\n",
      "통과\n",
      "*문제 3\n",
      "monkey\n",
      "통과\n",
      "*문제 4\n",
      "wolf\n",
      "통과\n",
      "*문제 5\n",
      "snake\n",
      "통과\n",
      "1607574821.6141312\n",
      "----------------------------------------\n",
      "7.820962905883789\n",
      "타자 시간 7\n"
     ]
    }
   ],
   "source": [
    "#프로젝트:타이핑 정리게임\n",
    "import time\n",
    "import random\n",
    "w = [\"cat\", \"dog\" ,\"fox\" ,\"monkey\", \"mouse\",\"panda\",\"frog\",\"snake\" ,\"wolf\"]\n",
    "n =1\n",
    "\n",
    "print(\"[타자게임] 준비되면 엔터\")\n",
    "input()\n",
    "start = time.time()\n",
    "print(start)\n",
    "q =random.choice(w)\n",
    "\n",
    "while n<=5:\n",
    "    print(\"*문제\",n)\n",
    "    print(q)\n",
    "    x =input()\n",
    "    if q==x:\n",
    "        print(\"통과\")\n",
    "        n=n+1\n",
    "        q =random.choice(w)\n",
    "    else:\n",
    "        print(\"오타 다시도전\")\n",
    "end = time.time()\n",
    "print(end)\n",
    "et = end-start\n",
    "print(\"--\"*20)\n",
    "print(et)\n",
    "\n",
    "print(\"타자 시간 %d\"%et)\n"
   ]
  },
  {
   "cell_type": "code",
   "execution_count": 1,
   "metadata": {
    "tags": [
     "outputPrepend"
    ]
   },
   "outputs": [
    {
     "output_type": "stream",
     "name": "stdout",
     "text": [
      "du (Cyrus v2.3.8) with LMTPA;\n\t Wed, 12 Dec 2007 16:19:29 -0500\nX-Sieve: CMU Sieve 2.3\nReceived: from murder ([unix socket])\n\t by mail.umich.edu (Cyrus v2.2.12) with LMTPA;\n\t Wed, 12 Dec 2007 16:19:28 -0500\nReceived: from it.mr.itd.umich.edu (it.mr.itd.umich.edu [141.211.93.151])\n\tby panther.mail.umich.edu () with ESMTP id lBCLJRsX008670;\n\tWed, 12 Dec 2007 16:19:28 -0500\nReceived: FROM paploo.uhi.ac.uk (app1.prod.collab.uhi.ac.uk [194.35.219.184])\n\tBY it.mr.itd.umich.edu ID 4760505A.6F2E4.16566 ; \n\t12 Dec 2007 16:19:25 -0500\nReceived: from paploo.uhi.ac.uk (localhost [127.0.0.1])\n\tby paploo.uhi.ac.uk (Postfix) with ESMTP id DA0239C305;\n\tWed, 12 Dec 2007 21:19:18 +0000 (GMT)\nMessage-ID: <200712122111.lBCLBGs3007079@nakamura.uits.iupui.edu>\nMime-Version: 1.0\nContent-Transfer-Encoding: 7bit\nReceived: from prod.collab.uhi.ac.uk ([194.35.219.182])\n          by paploo.uhi.ac.uk (JAMES SMTP Server 2.1.3) with SMTP ID 252\n          for <source@collab.sakaiproject.org>;\n          Wed, 12 Dec 2007 21:18:55 +0000 (GMT)\nReceived: from nakamura.uits.iupui.edu (nakamura.uits.iupui.edu [134.68.220.122])\n\tby shmi.uhi.ac.uk (Postfix) with ESMTP id 6D0202AD4C\n\tfor <source@collab.sakaiproject.org>; Wed, 12 Dec 2007 21:18:55 +0000 (GMT)\nReceived: from nakamura.uits.iupui.edu (localhost [127.0.0.1])\n\tby nakamura.uits.iupui.edu (8.12.11.20060308/8.12.11) with ESMTP id lBCLBHo1007081\n\tfor <source@collab.sakaiproject.org>; Wed, 12 Dec 2007 16:11:17 -0500\nReceived: (from apache@localhost)\n\tby nakamura.uits.iupui.edu (8.12.11.20060308/8.12.11/Submit) id lBCLBGs3007079\n\tfor source@collab.sakaiproject.org; Wed, 12 Dec 2007 16:11:16 -0500\nDate: Wed, 12 Dec 2007 16:11:16 -0500\nX-Authentication-Warning: nakamura.uits.iupui.edu: apache set sender to jimeng@umich.edu using -f\nTo: source@collab.sakaiproject.org\nFrom: jimeng@umich.edu\nSubject: [sakai] svn commit: r39160 - content/branches/SAK-12239\nX-Content-Type-Outer-Envelope: text/plain; charset=UTF-8\nX-Content-Type-Message-Body: text/plain; charset=UTF-8\nContent-Type: text/plain; charset=UTF-8\nX-DSPAM-Result: Innocent\nX-DSPAM-Processed: Wed Dec 12 16:19:28 2007\nX-DSPAM-Confidence: 0.9854\nX-DSPAM-Probability: 0.0000\n\nDetails: http://source.sakaiproject.org/viewsvn/?view=rev&rev=39160\n\nAuthor: jimeng@umich.edu\nDate: 2007-12-12 16:11:15 -0500 (Wed, 12 Dec 2007)\nNew Revision: 39160\n\nModified:\ncontent/branches/SAK-12239/upgradeschema-mysql.config\ncontent/branches/SAK-12239/upgradeschema-oracle.config\nLog:\nSAK-12239\nSAK-12249\nAdded config to deal with delete table.\nUpdated oracle config file.\n\n\n----------------------\nThis automatic notification message was sent by Sakai Collab (https://collab.sakaiproject.org/portal) from the Source site.\nYou can modify how you receive notifications at My Workspace > Preferences.\n\n\n\nFrom gjthomas@iupui.edu Wed Dec 12 16:17:50 2007\nReturn-Path: <postmaster@collab.sakaiproject.org>\nReceived: from murder (mail.umich.edu [141.211.14.95])\n\t by frankenstein.mail.umich.edu (Cyrus v2.3.8) with LMTPA;\n\t Wed, 12 Dec 2007 16:17:50 -0500\nX-Sieve: CMU Sieve 2.3\nReceived: from murder ([unix socket])\n\t by mail.umich.edu (Cyrus v2.2.12) with LMTPA;\n\t Wed, 12 Dec 2007 16:17:50 -0500\nReceived: from galaxyquest.mr.itd.umich.edu (galaxyquest.mr.itd.umich.edu [141.211.93.145])\n\tby brazil.mail.umich.edu () with ESMTP id lBCLHo4E001514;\n\tWed, 12 Dec 2007 16:17:50 -0500\nReceived: FROM paploo.uhi.ac.uk (app1.prod.collab.uhi.ac.uk [194.35.219.184])\n\tBY galaxyquest.mr.itd.umich.edu ID 47604FF8.53DB2.22822 ; \n\t12 Dec 2007 16:17:47 -0500\nReceived: from paploo.uhi.ac.uk (localhost [127.0.0.1])\n\tby paploo.uhi.ac.uk (Postfix) with ESMTP id 9A8A49C10C;\n\tWed, 12 Dec 2007 21:17:42 +0000 (GMT)\nMessage-ID: <200712122109.lBCL9iKA007051@nakamura.uits.iupui.edu>\nMime-Version: 1.0\nContent-Transfer-Encoding: 7bit\nReceived: from prod.collab.uhi.ac.uk ([194.35.219.182])\n          by paploo.uhi.ac.uk (JAMES SMTP Server 2.1.3) with SMTP ID 680\n          for <source@collab.sakaiproject.org>;\n          Wed, 12 Dec 2007 21:17:23 +0000 (GMT)\nReceived: from nakamura.uits.iupui.edu (nakamura.uits.iupui.edu [134.68.220.122])\n\tby shmi.uhi.ac.uk (Postfix) with ESMTP id 4931F2AD4C\n\tfor <source@collab.sakaiproject.org>; Wed, 12 Dec 2007 21:17:23 +0000 (GMT)\nReceived: from nakamura.uits.iupui.edu (localhost [127.0.0.1])\n\tby nakamura.uits.iupui.edu (8.12.11.20060308/8.12.11) with ESMTP id lBCL9ijZ007054\n\tfor <source@collab.sakaiproject.org>; Wed, 12 Dec 2007 16:09:44 -0500\nReceived: (from apache@localhost)\n\tby nakamura.uits.iupui.edu (8.12.11.20060308/8.12.11/Submit) id lBCL9iKA007051\n\tfor source@collab.sakaiproject.org; Wed, 12 Dec 2007 16:09:44 -0500\nDate: Wed, 12 Dec 2007 16:09:44 -0500\nX-Authentication-Warning: nakamura.uits.iupui.edu: apache set sender to gjthomas@iupui.edu using -f\nTo: source@collab.sakaiproject.org\nFrom: gjthomas@iupui.edu\nSubject: [sakai] svn commit: r39159 - portal/branches/oncourse_opc_122007/portal-impl/impl/src/java/org/sakaiproject/portal/charon/handlers\nX-Content-Type-Outer-Envelope: text/plain; charset=UTF-8\nX-Content-Type-Message-Body: text/plain; charset=UTF-8\nContent-Type: text/plain; charset=UTF-8\nX-DSPAM-Result: Innocent\nX-DSPAM-Processed: Wed Dec 12 16:17:50 2007\nX-DSPAM-Confidence: 0.9811\nX-DSPAM-Probability: 0.0000\n\nDetails: http://source.sakaiproject.org/viewsvn/?view=rev&rev=39159\n\nAuthor: gjthomas@iupui.edu\nDate: 2007-12-12 16:09:43 -0500 (Wed, 12 Dec 2007)\nNew Revision: 39159\n\nModified:\nportal/branches/oncourse_opc_122007/portal-impl/impl/src/java/org/sakaiproject/portal/charon/handlers/SiteHandler.java\nLog:\nSAK-7924 - Fix for the \"tab disappearing\" problem\n\n----------------------\nThis automatic notification message was sent by Sakai Collab (https://collab.sakaiproject.org/portal) from the Source site.\nYou can modify how you receive notifications at My Workspace > Preferences.\n\n\n\nFrom gjthomas@iupui.edu Wed Dec 12 16:16:35 2007\nReturn-Path: <postmaster@collab.sakaiproject.org>\nReceived: from murder (mail.umich.edu [141.211.14.98])\n\t by frankenstein.mail.umich.edu (Cyrus v2.3.8) with LMTPA;\n\t Wed, 12 Dec 2007 16:16:35 -0500\nX-Sieve: CMU Sieve 2.3\nReceived: from murder ([unix socket])\n\t by mail.umich.edu (Cyrus v2.2.12) with LMTPA;\n\t Wed, 12 Dec 2007 16:16:34 -0500\nReceived: from icestorm.mr.itd.umich.edu (icestorm.mr.itd.umich.edu [141.211.93.149])\n\tby casino.mail.umich.edu () with ESMTP id lBCLGYZu023834;\n\tWed, 12 Dec 2007 16:16:34 -0500\nReceived: FROM paploo.uhi.ac.uk (app1.prod.collab.uhi.ac.uk [194.35.219.184])\n\tBY icestorm.mr.itd.umich.edu ID 47604FAB.F3144.13573 ; \n\t12 Dec 2007 16:16:31 -0500\nReceived: from paploo.uhi.ac.uk (localhost [127.0.0.1])\n\tby paploo.uhi.ac.uk (Postfix) with ESMTP id 874605954A;\n\tWed, 12 Dec 2007 21:16:24 +0000 (GMT)\nMessage-ID: <200712122108.lBCL8Mlp007038@nakamura.uits.iupui.edu>\nMime-Version: 1.0\nContent-Transfer-Encoding: 7bit\nReceived: from prod.collab.uhi.ac.uk ([194.35.219.182])\n          by paploo.uhi.ac.uk (JAMES SMTP Server 2.1.3) with SMTP ID 180\n          for <source@collab.sakaiproject.org>;\n          Wed, 12 Dec 2007 21:16:00 +0000 (GMT)\nReceived: from nakamura.uits.iupui.edu (nakamura.uits.iupui.edu [134.68.220.122])\n\tby shmi.uhi.ac.uk (Postfix) with ESMTP id 86C632AD4C\n\tfor <source@collab.sakaiproject.org>; Wed, 12 Dec 2007 21:16:00 +0000 (GMT)\nReceived: from nakamura.uits.iupui.edu (localhost [127.0.0.1])\n\tby nakamura.uits.iupui.edu (8.12.11.20060308/8.12.11) with ESMTP id lBCL8M5A007040\n\tfor <source@collab.sakaiproject.org>; Wed, 12 Dec 2007 16:08:22 -0500\nReceived: (from apache@localhost)\n\tby nakamura.uits.iupui.edu (8.12.11.20060308/8.12.11/Submit) id lBCL8Mlp007038\n\tfor source@collab.sakaiproject.org; Wed, 12 Dec 2007 16:08:22 -0500\nDate: Wed, 12 Dec 2007 16:08:22 -0500\nX-Authentication-Warning: nakamura.uits.iupui.edu: apache set sender to gjthomas@iupui.edu using -f\nTo: source@collab.sakaiproject.org\nFrom: gjthomas@iupui.edu\nSubject: [sakai] svn commit: r39158 - portal/branches/oncourse_opc_122007/portal-impl/impl/src/java/org/sakaiproject/portal/charon/handlers\nX-Content-Type-Outer-Envelope: text/plain; charset=UTF-8\nX-Content-Type-Message-Body: text/plain; charset=UTF-8\nContent-Type: text/plain; charset=UTF-8\nX-DSPAM-Result: Innocent\nX-DSPAM-Processed: Wed Dec 12 16:16:34 2007\nX-DSPAM-Confidence: 0.9801\nX-DSPAM-Probability: 0.0000\n\nDetails: http://source.sakaiproject.org/viewsvn/?view=rev&rev=39158\n\nAuthor: gjthomas@iupui.edu\nDate: 2007-12-12 16:08:20 -0500 (Wed, 12 Dec 2007)\nNew Revision: 39158\n\nModified:\nportal/branches/oncourse_opc_122007/portal-impl/impl/src/java/org/sakaiproject/portal/charon/handlers/SiteHandler.java\nLog:\nSAK-7924 - Fix for the \"tab disappearing\" problem\n\n----------------------\nThis automatic notification message was sent by Sakai Collab (https://collab.sakaiproject.org/portal) from the Source site.\nYou can modify how you receive notifications at My Workspace > Preferences.\n\n\n\nFrom jimeng@umich.edu Wed Dec 12 16:05:10 2007\nReturn-Path: <postmaster@collab.sakaiproject.org>\nReceived: from murder (mail.umich.edu [141.211.14.39])\n\t by frankenstein.mail.umich.edu (Cyrus v2.3.8) with LMTPA;\n\t Wed, 12 Dec 2007 16:05:10 -0500\nX-Sieve: CMU Sieve 2.3\nReceived: from murder ([unix socket])\n\t by mail.umich.edu (Cyrus v2.2.12) with LMTPA;\n\t Wed, 12 Dec 2007 16:05:10 -0500\nReceived: from workinggirl.mr.itd.umich.edu (workinggirl.mr.itd.umich.edu [141.211.93.143])\n\tby faithful.mail.umich.edu () with ESMTP id lBCL594M020053;\n\tWed, 12 Dec 2007 16:05:09 -0500\nReceived: FROM paploo.uhi.ac.uk (app1.prod.collab.uhi.ac.uk [194.35.219.184])\n\tBY workinggirl.mr.itd.umich.edu ID 47604CFF.6B9D2.25667 ; \n\t12 Dec 2007 16:05:06 -0500\nReceived: from paploo.uhi.ac.uk (localhost [127.0.0.1])\n\tby paploo.uhi.ac.uk (Postfix) with ESMTP id 9726A96A17;\n\tWed, 12 Dec 2007 21:04:59 +0000 (GMT)\nMessage-ID: <200712122056.lBCKutjx007024@nakamura.uits.iupui.edu>\nMime-Version: 1.0\nContent-Transfer-Encoding: 7bit\nReceived: from prod.collab.uhi.ac.uk ([194.35.219.182])\n          by paploo.uhi.ac.uk (JAMES SMTP Server 2.1.3) with SMTP ID 506\n          for <source@collab.sakaiproject.org>;\n          Wed, 12 Dec 2007 21:04:33 +0000 (GMT)\nReceived: from nakamura.uits.iupui.edu (nakamura.uits.iupui.edu [134.68.220.122])\n\tby shmi.uhi.ac.uk (Postfix) with ESMTP id 835641D7C8\n\tfor <source@collab.sakaiproject.org>; Wed, 12 Dec 2007 21:04:33 +0000 (GMT)\nReceived: from nakamura.uits.iupui.edu (localhost [127.0.0.1])\n\tby nakamura.uits.iupui.edu (8.12.11.20060308/8.12.11) with ESMTP id lBCKutlA007026\n\tfor <source@collab.sakaiproject.org>; Wed, 12 Dec 2007 15:56:55 -0500\nReceived: (from apache@localhost)\n\tby nakamura.uits.iupui.edu (8.12.11.20060308/8.12.11/Submit) id lBCKutjx007024\n\tfor source@collab.sakaiproject.org; Wed, 12 Dec 2007 15:56:55 -0500\nDate: Wed, 12 Dec 2007 15:56:55 -0500\nX-Authentication-Warning: nakamura.uits.iupui.edu: apache set sender to jimeng@umich.edu using -f\nTo: source@collab.sakaiproject.org\nFrom: jimeng@umich.edu\nSubject: [sakai] svn commit: r39157 - content/trunk\nX-Content-Type-Outer-Envelope: text/plain; charset=UTF-8\nX-Content-Type-Message-Body: text/plain; charset=UTF-8\nContent-Type: text/plain; charset=UTF-8\nX-DSPAM-Result: Innocent\nX-DSPAM-Processed: Wed Dec 12 16:05:10 2007\nX-DSPAM-Confidence: 0.9886\nX-DSPAM-Probability: 0.0000\n\nDetails: http://source.sakaiproject.org/viewsvn/?view=rev&rev=39157\n\nAuthor: jimeng@umich.edu\nDate: 2007-12-12 15:56:53 -0500 (Wed, 12 Dec 2007)\nNew Revision: 39157\n\nModified:\ncontent/trunk/runconversion.sh\ncontent/trunk/upgradeschema-mysql.config\nLog:\nSAK-12249\nAdded mysql config for converting delete table.\nUpdated runconversion script to include commons-collections in classpath.\n\n\n----------------------\nThis automatic notification message was sent by Sakai Collab (https://collab.sakaiproject.org/portal) from the Source site.\nYou can modify how you receive notifications at My Workspace > Preferences.\n\n\n\nFrom zqian@umich.edu Wed Dec 12 16:02:35 2007\nReturn-Path: <postmaster@collab.sakaiproject.org>\nReceived: from murder (mail.umich.edu [141.211.14.96])\n\t by frankenstein.mail.umich.edu (Cyrus v2.3.8) with LMTPA;\n\t Wed, 12 Dec 2007 16:02:35 -0500\nX-Sieve: CMU Sieve 2.3\nReceived: from murder ([unix socket])\n\t by mail.umich.edu (Cyrus v2.2.12) with LMTPA;\n\t Wed, 12 Dec 2007 16:02:35 -0500\nReceived: from dreamcatcher.mr.itd.umich.edu (dreamcatcher.mr.itd.umich.edu [141.211.14.43])\n\tby awakenings.mail.umich.edu () with ESMTP id lBCL2YLB024060;\n\tWed, 12 Dec 2007 16:02:34 -0500\nReceived: FROM paploo.uhi.ac.uk (app1.prod.collab.uhi.ac.uk [194.35.219.184])\n\tBY dreamcatcher.mr.itd.umich.edu ID 47604C63.DC1DF.27224 ; \n\t12 Dec 2007 16:02:30 -0500\nReceived: from paploo.uhi.ac.uk (localhost [127.0.0.1])\n\tby paploo.uhi.ac.uk (Postfix) with ESMTP id 81DDF4EB62;\n\tWed, 12 Dec 2007 21:02:21 +0000 (GMT)\nMessage-ID: <200712122054.lBCKs4La007012@nakamura.uits.iupui.edu>\nMime-Version: 1.0\nContent-Transfer-Encoding: 7bit\nReceived: from prod.collab.uhi.ac.uk ([194.35.219.182])\n          by paploo.uhi.ac.uk (JAMES SMTP Server 2.1.3) with SMTP ID 36\n          for <source@collab.sakaiproject.org>;\n          Wed, 12 Dec 2007 20:54:39 +0000 (GMT)\nReceived: from nakamura.uits.iupui.edu (nakamura.uits.iupui.edu [134.68.220.122])\n\tby shmi.uhi.ac.uk (Postfix) with ESMTP id D83641D7C8\n\tfor <source@collab.sakaiproject.org>; Wed, 12 Dec 2007 21:01:42 +0000 (GMT)\nReceived: from nakamura.uits.iupui.edu (localhost [127.0.0.1])\n\tby nakamura.uits.iupui.edu (8.12.11.20060308/8.12.11) with ESMTP id lBCKs4CV007014\n\tfor <source@collab.sakaiproject.org>; Wed, 12 Dec 2007 15:54:04 -0500\nReceived: (from apache@localhost)\n\tby nakamura.uits.iupui.edu (8.12.11.20060308/8.12.11/Submit) id lBCKs4La007012\n\tfor source@collab.sakaiproject.org; Wed, 12 Dec 2007 15:54:04 -0500\nDate: Wed, 12 Dec 2007 15:54:04 -0500\nX-Authentication-Warning: nakamura.uits.iupui.edu: apache set sender to zqian@umich.edu using -f\nTo: source@collab.sakaiproject.org\nFrom: zqian@umich.edu\nSubject: [sakai] svn commit: r39156 - assignment/branches\nX-Content-Type-Outer-Envelope: text/plain; charset=UTF-8\nX-Content-Type-Message-Body: text/plain; charset=UTF-8\nContent-Type: text/plain; charset=UTF-8\nX-DSPAM-Result: Innocent\nX-DSPAM-Processed: Wed Dec 12 16:02:35 2007\nX-DSPAM-Confidence: 0.9837\nX-DSPAM-Probability: 0.0000\n\nDetails: http://source.sakaiproject.org/viewsvn/?view=rev&rev=39156\n\nAuthor: zqian@umich.edu\nDate: 2007-12-12 15:54:02 -0500 (Wed, 12 Dec 2007)\nNew Revision: 39156\n\nAdded:\nassignment/branches/post-2-4-umich/\nLog:\nAdd this brach as the testbed for assignment conversion SAK-11821\n\n\n----------------------\nThis automatic notification message was sent by Sakai Collab (https://collab.sakaiproject.org/portal) from the Source site.\nYou can modify how you receive notifications at My Workspace > Preferences.\n\n\n\nFrom cwen@iupui.edu Wed Dec 12 16:02:01 2007\nReturn-Path: <postmaster@collab.sakaiproject.org>\nReceived: from murder (mail.umich.edu [141.211.14.46])\n\t by frankenstein.mail.umich.edu (Cyrus v2.3.8) with LMTPA;\n\t Wed, 12 Dec 2007 16:02:01 -0500\nX-Sieve: CMU Sieve 2.3\nReceived: from murder ([unix socket])\n\t by mail.umich.edu (Cyrus v2.2.12) with LMTPA;\n\t Wed, 12 Dec 2007 16:02:01 -0500\nReceived: from anniehall.mr.itd.umich.edu (anniehall.mr.itd.umich.edu [141.211.93.141])\n\tby fan.mail.umich.edu () with ESMTP id lBCL209X007648;\n\tWed, 12 Dec 2007 16:02:00 -0500\nReceived: FROM paploo.uhi.ac.uk (app1.prod.collab.uhi.ac.uk [194.35.219.184])\n\tBY anniehall.mr.itd.umich.edu ID 47604C40.8336E.4759 ; \n\t12 Dec 2007 16:01:55 -0500\nReceived: from paploo.uhi.ac.uk (localhost [127.0.0.1])\n\tby paploo.uhi.ac.uk (Postfix) with ESMTP id DC5BC96A17;\n\tWed, 12 Dec 2007 20:54:48 +0000 (GMT)\nMessage-ID: <200712122053.lBCKrm7a007000@nakamura.uits.iupui.edu>\nMime-Version: 1.0\nContent-Transfer-Encoding: 7bit\nReceived: from prod.collab.uhi.ac.uk ([194.35.219.182])\n          by paploo.uhi.ac.uk (JAMES SMTP Server 2.1.3) with SMTP ID 786\n          for <source@collab.sakaiproject.org>;\n          Wed, 12 Dec 2007 20:54:26 +0000 (GMT)\nReceived: from nakamura.uits.iupui.edu (nakamura.uits.iupui.edu [134.68.220.122])\n\tby shmi.uhi.ac.uk (Postfix) with ESMTP id 4A6831D7C8\n\tfor <source@collab.sakaiproject.org>; Wed, 12 Dec 2007 21:01:27 +0000 (GMT)\nReceived: from nakamura.uits.iupui.edu (localhost [127.0.0.1])\n\tby nakamura.uits.iupui.edu (8.12.11.20060308/8.12.11) with ESMTP id lBCKrmMR007002\n\tfor <source@collab.sakaiproject.org>; Wed, 12 Dec 2007 15:53:49 -0500\nReceived: (from apache@localhost)\n\tby nakamura.uits.iupui.edu (8.12.11.20060308/8.12.11/Submit) id lBCKrm7a007000\n\tfor source@collab.sakaiproject.org; Wed, 12 Dec 2007 15:53:48 -0500\nDate: Wed, 12 Dec 2007 15:53:48 -0500\nX-Authentication-Warning: nakamura.uits.iupui.edu: apache set sender to cwen@iupui.edu using -f\nTo: source@collab.sakaiproject.org\nFrom: cwen@iupui.edu\nSubject: [sakai] svn commit: r39155 - reference/trunk/docs/conversion\nX-Content-Type-Outer-Envelope: text/plain; charset=UTF-8\nX-Content-Type-Message-Body: text/plain; charset=UTF-8\nContent-Type: text/plain; charset=UTF-8\nX-DSPAM-Result: Innocent\nX-DSPAM-Processed: Wed Dec 12 16:02:01 2007\nX-DSPAM-Confidence: 0.9801\nX-DSPAM-Probability: 0.0000\n\nDetails: http://source.sakaiproject.org/viewsvn/?view=rev&rev=39155\n\nAuthor: cwen@iupui.edu\nDate: 2007-12-12 15:53:46 -0500 (Wed, 12 Dec 2007)\nNew Revision: 39155\n\nModified:\nreference/trunk/docs/conversion/sakai_2_4_0-2_5_0_mysql_conversion.sql\nreference/trunk/docs/conversion/sakai_2_4_0-2_5_0_oracle_conversion.sql\nLog:\nmore conversion statements for SAK-10427.\n\n----------------------\nThis automatic notification message was sent by Sakai Collab (https://collab.sakaiproject.org/portal) from the Source site.\nYou can modify how you receive notifications at My Workspace > Preferences.\n\n\n\nFrom arwhyte@umich.edu Wed Dec 12 15:57:10 2007\nReturn-Path: <postmaster@collab.sakaiproject.org>\nReceived: from murder (mail.umich.edu [141.211.14.36])\n\t by frankenstein.mail.umich.edu (Cyrus v2.3.8) with LMTPA;\n\t Wed, 12 Dec 2007 15:57:10 -0500\nX-Sieve: CMU Sieve 2.3\nReceived: from murder ([unix socket])\n\t by mail.umich.edu (Cyrus v2.2.12) with LMTPA;\n\t Wed, 12 Dec 2007 15:57:10 -0500\nReceived: from cujo.mr.itd.umich.edu (cujo.mr.itd.umich.edu [141.211.93.157])\n\tby godsend.mail.umich.edu () with ESMTP id lBCKv9xd022985;\n\tWed, 12 Dec 2007 15:57:09 -0500\nReceived: FROM paploo.uhi.ac.uk (app1.prod.collab.uhi.ac.uk [194.35.219.184])\n\tBY cujo.mr.itd.umich.edu ID 47604B17.E77AF.7668 ; \n\t12 Dec 2007 15:56:58 -0500\nReceived: from paploo.uhi.ac.uk (localhost [127.0.0.1])\n\tby paploo.uhi.ac.uk (Postfix) with ESMTP id 599139C106;\n\tWed, 12 Dec 2007 20:49:39 +0000 (GMT)\nMessage-ID: <200712122048.lBCKmqmY006988@nakamura.uits.iupui.edu>\nMime-Version: 1.0\nContent-Transfer-Encoding: 7bit\nReceived: from prod.collab.uhi.ac.uk ([194.35.219.182])\n          by paploo.uhi.ac.uk (JAMES SMTP Server 2.1.3) with SMTP ID 533\n          for <source@collab.sakaiproject.org>;\n          Wed, 12 Dec 2007 20:49:15 +0000 (GMT)\nReceived: from nakamura.uits.iupui.edu (nakamura.uits.iupui.edu [134.68.220.122])\n\tby shmi.uhi.ac.uk (Postfix) with ESMTP id AC9E51D7C8\n\tfor <source@collab.sakaiproject.org>; Wed, 12 Dec 2007 20:56:30 +0000 (GMT)\nReceived: from nakamura.uits.iupui.edu (localhost [127.0.0.1])\n\tby nakamura.uits.iupui.edu (8.12.11.20060308/8.12.11) with ESMTP id lBCKmqPe006990\n\tfor <source@collab.sakaiproject.org>; Wed, 12 Dec 2007 15:48:52 -0500\nReceived: (from apache@localhost)\n\tby nakamura.uits.iupui.edu (8.12.11.20060308/8.12.11/Submit) id lBCKmqmY006988\n\tfor source@collab.sakaiproject.org; Wed, 12 Dec 2007 15:48:52 -0500\nDate: Wed, 12 Dec 2007 15:48:52 -0500\nX-Authentication-Warning: nakamura.uits.iupui.edu: apache set sender to arwhyte@umich.edu using -f\nTo: source@collab.sakaiproject.org\nFrom: arwhyte@umich.edu\nSubject: [sakai] svn commit: r39154 - reference/trunk/docs/releaseweb/images\nX-Content-Type-Outer-Envelope: text/plain; charset=UTF-8\nX-Content-Type-Message-Body: text/plain; charset=UTF-8\nContent-Type: text/plain; charset=UTF-8\nX-DSPAM-Result: Innocent\nX-DSPAM-Processed: Wed Dec 12 15:57:10\n"
     ]
    },
    {
     "output_type": "execute_result",
     "data": {
      "text/plain": [
       "<function TextIOWrapper.close()>"
      ]
     },
     "metadata": {},
     "execution_count": 1
    }
   ],
   "source": [
    "f= open(\"mbox.txt\",'r')\n",
    "result=f.read()\n",
    "print(result)\n",
    "f.close"
   ]
  },
  {
   "cell_type": "code",
   "execution_count": 2,
   "metadata": {},
   "outputs": [
    {
     "output_type": "stream",
     "name": "stdout",
     "text": [
      "주문할 음료를 말씀하세요\n",
      "총금액은: 17000 원\n",
      "거스름돈은 216333 원입니다\n"
     ]
    }
   ],
   "source": [
    "print(\"주문할 음료를 말씀하세요\")\n",
    "noA = int(input(\"아메리카노 개수(잔):\"))\n",
    "noL = int(input(\"카페라테 개수(잔):\"))\n",
    "noC = int(input(\"카푸치노 개수(잔):\"))\n",
    "\n",
    "sum = 0\n",
    "sum+= noA*2500\n",
    "sum+= noL*3000\n",
    "sum+= noC*3000\n",
    "\n",
    "print(\"총금액은:\",sum,\"원\")\n",
    "money = int(input(\"지불하실 금앰을 입력하세요.>>\"))\n",
    "if money<sum:\n",
    "    print(\"금액이 부족합니다.\")\n",
    "else:\n",
    "    print(\"거스름돈은\",money-sum,\"원입니다\")"
   ]
  },
  {
   "cell_type": "code",
   "execution_count": 8,
   "metadata": {},
   "outputs": [
    {
     "output_type": "stream",
     "name": "stdout",
     "text": [
      "['c:\\\\Users\\\\Admin\\\\Desktop\\\\workspace\\\\pbl\\\\python\\\\파이썬\\\\3일차(20201210)', 'c:\\\\Users\\\\Admin\\\\.vscode\\\\extensions\\\\ms-toolsai.jupyter-2020.12.411183155\\\\pythonFiles', 'c:\\\\Users\\\\Admin\\\\.vscode\\\\extensions\\\\ms-toolsai.jupyter-2020.12.411183155\\\\pythonFiles\\\\lib\\\\python', 'C:\\\\Users\\\\Admin\\\\anaconda3\\\\python38.zip', 'C:\\\\Users\\\\Admin\\\\anaconda3\\\\DLLs', 'C:\\\\Users\\\\Admin\\\\anaconda3\\\\lib', 'C:\\\\Users\\\\Admin\\\\anaconda3', '', 'C:\\\\Users\\\\Admin\\\\anaconda3\\\\lib\\\\site-packages', 'C:\\\\Users\\\\Admin\\\\anaconda3\\\\lib\\\\site-packages\\\\win32', 'C:\\\\Users\\\\Admin\\\\anaconda3\\\\lib\\\\site-packages\\\\win32\\\\lib', 'C:\\\\Users\\\\Admin\\\\anaconda3\\\\lib\\\\site-packages\\\\Pythonwin', 'C:\\\\Users\\\\Admin\\\\anaconda3\\\\lib\\\\site-packages\\\\IPython\\\\extensions', 'C:\\\\Users\\\\Admin\\\\.ipython']\n"
     ]
    }
   ],
   "source": [
    "import sys\n",
    "print(sys.path)"
   ]
  },
  {
   "cell_type": "code",
   "execution_count": 18,
   "metadata": {},
   "outputs": [
    {
     "output_type": "stream",
     "name": "stdout",
     "text": [
      "['C:\\\\Users\\\\Admin\\\\anaconda3', 'C:\\\\Users\\\\Admin\\\\anaconda3\\\\lib\\\\site-packages']\n"
     ]
    }
   ],
   "source": [
    "import site\n",
    "print(site.getsitepackages())"
   ]
  },
  {
   "cell_type": "code",
   "execution_count": 41,
   "metadata": {},
   "outputs": [
    {
     "output_type": "stream",
     "name": "stdout",
     "text": [
      "7,4\n",
      "1.601463초만에 답을 했어요\n",
      "맞았습니다.\n",
      "\n",
      "[28]\n",
      "6,6\n",
      "1.680970초만에 답을 했어요\n",
      "맞았습니다.\n",
      "\n",
      "[28, 36]\n",
      "7,9\n",
      "2.598174초만에 답을 했어요\n",
      "맞았습니다.\n",
      "\n",
      "[28, 36, 63]\n",
      "8,8\n",
      "2.979205초만에 답을 했어요\n",
      "맞았습니다.\n",
      "\n",
      "[28, 36, 63, 64]\n",
      "4 번중 4 번 맞았어요\n"
     ]
    }
   ],
   "source": [
    "import random\n",
    "import time\n",
    "correctAns= 0\n",
    "wrongAns = 0\n",
    "timeout = 3\n",
    "previousProducts=[]\n",
    "count = int(input(\"몇번할까요?0\"))\n",
    "while count !=0:\n",
    "    a = random.randint(3,9)\n",
    "    b = random.randint(3,9)\n",
    "    if a==5 or b ==5 or a*b in previousProducts:\n",
    "        continue\n",
    "    count -=1\n",
    "    print(\"%d,%d\"%(a,b))\n",
    "    startTime = time.time()\n",
    "    product = int(input())\n",
    "    endTime = time.time()\n",
    "    print(\"%lf초만에 답을 했어요\"%(endTime-startTime))\n",
    "    if product == a*b and timeout> endTime-startTime:\n",
    "        correctAns = correctAns +1\n",
    "        print(\"맞았습니다.\\n\")\n",
    "    else:\n",
    "        wrongAns = wrongAns+1\n",
    "        print(\"틀렸습니다\\n\")        \n",
    "    priviousProducts =previousProducts.append(product)\n",
    "    print(previousProducts)\n",
    "print(\"%d 번중 %d 번 맞았어요\"%(correctAns + wrongAns ,correctAns))"
   ]
  }
 ]
}